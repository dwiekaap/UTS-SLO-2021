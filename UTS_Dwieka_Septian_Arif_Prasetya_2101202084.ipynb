{
  "nbformat": 4,
  "nbformat_minor": 0,
  "metadata": {
    "accelerator": "GPU",
    "colab": {
      "name": "UTS_Dwieka_Septian_Arif_Prasetya_2101202084.ipynb",
      "provenance": [],
      "toc_visible": true,
      "include_colab_link": true
    },
    "kernelspec": {
      "display_name": "Python 3",
      "name": "python3"
    },
    "language_info": {
      "name": "python"
    }
  },
  "cells": [
    {
      "cell_type": "markdown",
      "metadata": {
        "id": "view-in-github",
        "colab_type": "text"
      },
      "source": [
        "<a href=\"https://colab.research.google.com/github/dwiekaap/UTS-SLO-2021/blob/main/UTS_Dwieka_Septian_Arif_Prasetya_2101202084.ipynb\" target=\"_parent\"><img src=\"https://colab.research.google.com/assets/colab-badge.svg\" alt=\"Open In Colab\"/></a>"
      ]
    },
    {
      "cell_type": "code",
      "metadata": {
        "id": "uPrS1LZW272D",
        "colab": {
          "base_uri": "https://localhost:8080/"
        },
        "outputId": "bcbb60a3-2e1c-4cd8-ab0d-de0e63e11ac7"
      },
      "source": [
        ""
      ],
      "execution_count": 1,
      "outputs": [
        {
          "output_type": "stream",
          "text": [
            "Go to this URL in a browser: https://accounts.google.com/o/oauth2/auth?client_id=947318989803-6bn6qk8qdgf4n4g3pfee6491hc0brc4i.apps.googleusercontent.com&redirect_uri=urn%3aietf%3awg%3aoauth%3a2.0%3aoob&scope=email%20https%3a%2f%2fwww.googleapis.com%2fauth%2fdocs.test%20https%3a%2f%2fwww.googleapis.com%2fauth%2fdrive%20https%3a%2f%2fwww.googleapis.com%2fauth%2fdrive.photos.readonly%20https%3a%2f%2fwww.googleapis.com%2fauth%2fpeopleapi.readonly%20https%3a%2f%2fwww.googleapis.com%2fauth%2fdrive.activity.readonly%20https%3a%2f%2fwww.googleapis.com%2fauth%2fexperimentsandconfigs%20https%3a%2f%2fwww.googleapis.com%2fauth%2fphotos.native&response_type=code\n",
            "\n",
            "Enter your authorization code:\n",
            "4/1AY0e-g5S2__zBunbw_RGR2-j-pPC9eB0RkxBoFw5BJQlPPKpLvrqBLDerb4\n",
            "Mounted at /content/drive\n"
          ],
          "name": "stdout"
        }
      ]
    },
    {
      "cell_type": "code",
      "metadata": {
        "colab": {
          "base_uri": "https://localhost:8080/"
        },
        "id": "waotrA6uHJAE",
        "outputId": "bad6c0db-3422-4052-85e0-bed961ac26e7"
      },
      "source": [
        "cd/content/drive/MyDrive/UTS"
      ],
      "execution_count": 2,
      "outputs": [
        {
          "output_type": "stream",
          "text": [
            "/content/drive/.shortcut-targets-by-id/1uvXB16nNsCvx--NOrg601UvAZichBhQI/UTS\n"
          ],
          "name": "stdout"
        }
      ]
    },
    {
      "cell_type": "code",
      "metadata": {
        "id": "1MSxUbUjGqc5",
        "colab": {
          "base_uri": "https://localhost:8080/"
        },
        "outputId": "591eb107-fbb2-44a8-d7f9-6d70bb890d32"
      },
      "source": [
        "from google.colab import drive\n",
        "drive.mount('/content/drive')"
      ],
      "execution_count": 3,
      "outputs": [
        {
          "output_type": "stream",
          "text": [
            "Drive already mounted at /content/drive; to attempt to forcibly remount, call drive.mount(\"/content/drive\", force_remount=True).\n"
          ],
          "name": "stdout"
        }
      ]
    },
    {
      "cell_type": "code",
      "metadata": {
        "colab": {
          "base_uri": "https://localhost:8080/"
        },
        "id": "NCsQ7QmUJEUg",
        "outputId": "6f6cb608-687e-47f4-f595-a8feee0651c1"
      },
      "source": [
        "ls"
      ],
      "execution_count": 4,
      "outputs": [
        {
          "output_type": "stream",
          "text": [
            "\u001b[0m\u001b[01;34m3scene\u001b[0m/  forest_coba.jpg\n"
          ],
          "name": "stdout"
        }
      ]
    },
    {
      "cell_type": "code",
      "metadata": {
        "id": "MNtGhU1iJHSS"
      },
      "source": [
        "from keras.models import Sequential\n",
        "from keras.layers.core import Activation\n",
        "from keras.layers.core import Flatten\n",
        "from keras.layers.core import Dense\n",
        "from keras.optimizers import Adam\n",
        "from sklearn.preprocessing import LabelBinarizer\n",
        "from sklearn.model_selection import train_test_split\n",
        "from sklearn.metrics import classification_report\n",
        "from PIL import Image\n",
        "from PIL import ImageFilter\n",
        "from imutils import paths\n",
        "import numpy as np\n",
        "import os"
      ],
      "execution_count": 26,
      "outputs": []
    },
    {
      "cell_type": "code",
      "metadata": {
        "colab": {
          "base_uri": "https://localhost:8080/"
        },
        "id": "6YfSf6iiJZZt",
        "outputId": "655ace82-e1bf-4ce9-d26e-a7a0144681d2"
      },
      "source": [
        "# grab all image paths in the input dataset directory, then initialize\n",
        "# our list of images and corresponding class labels\n",
        "print(\"[INFO] loading images...\")\n",
        "imagePaths = paths.list_images(\"3scene\")\n",
        "data = []\n",
        "labels = []"
      ],
      "execution_count": 27,
      "outputs": [
        {
          "output_type": "stream",
          "text": [
            "[INFO] loading images...\n"
          ],
          "name": "stdout"
        }
      ]
    },
    {
      "cell_type": "code",
      "metadata": {
        "id": "EYE60lPmJc1P"
      },
      "source": [
        "for imagePath in imagePaths:\n",
        "  image=Image.open(imagePath)\n",
        "  image=image.filter(ImageFilter.SMOOTH)\n",
        "  image = image.filter(ImageFilter.SMOOTH_MORE)\n",
        "  image=np.array(image.resize((128,128))) / 255.0\n",
        "  data.append(image)\n",
        "  label=imagePath.split(os.path.sep)[-2]\n",
        "  labels.append(label)"
      ],
      "execution_count": 28,
      "outputs": []
    },
    {
      "cell_type": "code",
      "metadata": {
        "id": "Xqex9XOZJhoy",
        "colab": {
          "base_uri": "https://localhost:8080/"
        },
        "outputId": "eb442af9-4f44-443a-c050-9e07d98bc8f1"
      },
      "source": [
        "print(labels)"
      ],
      "execution_count": 29,
      "outputs": [
        {
          "output_type": "stream",
          "text": [
            "['coast', 'coast', 'coast', 'coast', 'coast', 'coast', 'coast', 'coast', 'coast', 'coast', 'coast', 'coast', 'coast', 'coast', 'coast', 'coast', 'coast', 'coast', 'coast', 'coast', 'coast', 'coast', 'coast', 'coast', 'coast', 'coast', 'coast', 'coast', 'coast', 'coast', 'coast', 'coast', 'coast', 'coast', 'coast', 'coast', 'coast', 'coast', 'coast', 'coast', 'coast', 'coast', 'coast', 'coast', 'coast', 'coast', 'coast', 'coast', 'coast', 'coast', 'coast', 'coast', 'coast', 'coast', 'coast', 'coast', 'coast', 'coast', 'coast', 'coast', 'coast', 'coast', 'coast', 'coast', 'coast', 'coast', 'coast', 'coast', 'coast', 'coast', 'coast', 'coast', 'coast', 'coast', 'coast', 'coast', 'coast', 'coast', 'coast', 'coast', 'coast', 'coast', 'coast', 'coast', 'coast', 'coast', 'coast', 'coast', 'coast', 'coast', 'coast', 'coast', 'coast', 'coast', 'coast', 'coast', 'coast', 'coast', 'coast', 'coast', 'coast', 'coast', 'coast', 'coast', 'coast', 'coast', 'coast', 'coast', 'coast', 'coast', 'coast', 'coast', 'coast', 'coast', 'coast', 'coast', 'coast', 'coast', 'coast', 'coast', 'coast', 'coast', 'coast', 'coast', 'coast', 'coast', 'coast', 'coast', 'coast', 'coast', 'coast', 'coast', 'coast', 'coast', 'coast', 'coast', 'coast', 'coast', 'coast', 'coast', 'coast', 'coast', 'coast', 'coast', 'coast', 'coast', 'coast', 'coast', 'coast', 'coast', 'coast', 'coast', 'coast', 'coast', 'coast', 'coast', 'coast', 'coast', 'coast', 'coast', 'coast', 'coast', 'coast', 'coast', 'coast', 'coast', 'coast', 'coast', 'coast', 'coast', 'coast', 'coast', 'coast', 'coast', 'coast', 'coast', 'coast', 'coast', 'coast', 'coast', 'coast', 'coast', 'coast', 'coast', 'coast', 'coast', 'coast', 'coast', 'coast', 'coast', 'coast', 'coast', 'coast', 'coast', 'coast', 'coast', 'coast', 'coast', 'coast', 'coast', 'coast', 'coast', 'coast', 'coast', 'coast', 'coast', 'coast', 'coast', 'coast', 'coast', 'coast', 'coast', 'coast', 'coast', 'coast', 'coast', 'coast', 'coast', 'coast', 'coast', 'coast', 'coast', 'coast', 'coast', 'coast', 'coast', 'coast', 'coast', 'coast', 'coast', 'coast', 'coast', 'coast', 'coast', 'coast', 'coast', 'coast', 'coast', 'coast', 'coast', 'coast', 'coast', 'coast', 'coast', 'coast', 'coast', 'coast', 'coast', 'coast', 'coast', 'coast', 'coast', 'coast', 'coast', 'coast', 'coast', 'coast', 'coast', 'coast', 'coast', 'coast', 'coast', 'coast', 'coast', 'coast', 'coast', 'coast', 'coast', 'coast', 'coast', 'coast', 'coast', 'coast', 'coast', 'coast', 'coast', 'coast', 'coast', 'coast', 'coast', 'coast', 'coast', 'coast', 'coast', 'coast', 'coast', 'coast', 'coast', 'coast', 'coast', 'coast', 'coast', 'coast', 'coast', 'coast', 'coast', 'coast', 'coast', 'coast', 'coast', 'coast', 'coast', 'coast', 'coast', 'coast', 'coast', 'coast', 'coast', 'coast', 'coast', 'coast', 'coast', 'coast', 'coast', 'coast', 'coast', 'coast', 'coast', 'coast', 'coast', 'coast', 'coast', 'coast', 'coast', 'coast', 'coast', 'coast', 'coast', 'coast', 'coast', 'coast', 'coast', 'coast', 'coast', 'coast', 'coast', 'coast', 'coast', 'coast', 'coast', 'coast', 'coast', 'coast', 'coast', 'coast', 'coast', 'coast', 'coast', 'coast', 'coast', 'coast', 'coast', 'coast', 'coast', 'coast', 'coast', 'coast', 'coast', 'coast', 'coast', 'forest', 'forest', 'forest', 'forest', 'forest', 'forest', 'forest', 'forest', 'forest', 'forest', 'forest', 'forest', 'forest', 'forest', 'forest', 'forest', 'forest', 'forest', 'forest', 'forest', 'forest', 'forest', 'forest', 'forest', 'forest', 'forest', 'forest', 'forest', 'forest', 'forest', 'forest', 'forest', 'forest', 'forest', 'forest', 'forest', 'forest', 'forest', 'forest', 'forest', 'forest', 'forest', 'forest', 'forest', 'forest', 'forest', 'forest', 'forest', 'forest', 'forest', 'forest', 'forest', 'forest', 'forest', 'forest', 'forest', 'forest', 'forest', 'forest', 'forest', 'forest', 'forest', 'forest', 'forest', 'forest', 'forest', 'forest', 'forest', 'forest', 'forest', 'forest', 'forest', 'forest', 'forest', 'forest', 'forest', 'forest', 'forest', 'forest', 'forest', 'forest', 'forest', 'forest', 'forest', 'forest', 'forest', 'forest', 'forest', 'forest', 'forest', 'forest', 'forest', 'forest', 'forest', 'forest', 'forest', 'forest', 'forest', 'forest', 'forest', 'forest', 'forest', 'forest', 'forest', 'forest', 'forest', 'forest', 'forest', 'forest', 'forest', 'forest', 'forest', 'forest', 'forest', 'forest', 'forest', 'forest', 'forest', 'forest', 'forest', 'forest', 'forest', 'forest', 'forest', 'forest', 'forest', 'forest', 'forest', 'forest', 'forest', 'forest', 'forest', 'forest', 'forest', 'forest', 'forest', 'forest', 'forest', 'forest', 'forest', 'forest', 'forest', 'forest', 'forest', 'forest', 'forest', 'forest', 'forest', 'forest', 'forest', 'forest', 'forest', 'forest', 'forest', 'forest', 'forest', 'forest', 'forest', 'forest', 'forest', 'forest', 'forest', 'forest', 'forest', 'forest', 'forest', 'forest', 'forest', 'forest', 'forest', 'forest', 'forest', 'forest', 'forest', 'forest', 'forest', 'forest', 'forest', 'forest', 'forest', 'forest', 'forest', 'forest', 'forest', 'forest', 'forest', 'forest', 'forest', 'forest', 'forest', 'forest', 'forest', 'forest', 'forest', 'forest', 'forest', 'forest', 'forest', 'forest', 'forest', 'forest', 'forest', 'forest', 'forest', 'forest', 'forest', 'forest', 'forest', 'forest', 'forest', 'forest', 'forest', 'forest', 'forest', 'forest', 'forest', 'forest', 'forest', 'forest', 'forest', 'forest', 'forest', 'forest', 'forest', 'forest', 'forest', 'forest', 'forest', 'forest', 'forest', 'forest', 'forest', 'forest', 'forest', 'forest', 'forest', 'forest', 'forest', 'forest', 'forest', 'forest', 'forest', 'forest', 'forest', 'forest', 'forest', 'forest', 'forest', 'forest', 'forest', 'forest', 'forest', 'forest', 'forest', 'forest', 'forest', 'forest', 'forest', 'forest', 'forest', 'forest', 'forest', 'forest', 'forest', 'forest', 'forest', 'forest', 'forest', 'forest', 'forest', 'forest', 'forest', 'forest', 'forest', 'forest', 'forest', 'forest', 'forest', 'forest', 'forest', 'forest', 'forest', 'forest', 'forest', 'forest', 'forest', 'forest', 'forest', 'forest', 'forest', 'forest', 'forest', 'forest', 'forest', 'forest', 'forest', 'forest', 'forest', 'forest', 'forest', 'forest', 'forest', 'forest', 'forest', 'forest', 'forest', 'forest', 'forest', 'forest', 'forest', 'forest', 'forest', 'forest', 'forest', 'forest', 'forest', 'forest', 'forest', 'forest', 'forest', 'forest', 'forest', 'forest', 'forest', 'forest', 'forest', 'forest', 'forest', 'highway', 'highway', 'highway', 'highway', 'highway', 'highway', 'highway', 'highway', 'highway', 'highway', 'highway', 'highway', 'highway', 'highway', 'highway', 'highway', 'highway', 'highway', 'highway', 'highway', 'highway', 'highway', 'highway', 'highway', 'highway', 'highway', 'highway', 'highway', 'highway', 'highway', 'highway', 'highway', 'highway', 'highway', 'highway', 'highway', 'highway', 'highway', 'highway', 'highway', 'highway', 'highway', 'highway', 'highway', 'highway', 'highway', 'highway', 'highway', 'highway', 'highway', 'highway', 'highway', 'highway', 'highway', 'highway', 'highway', 'highway', 'highway', 'highway', 'highway', 'highway', 'highway', 'highway', 'highway', 'highway', 'highway', 'highway', 'highway', 'highway', 'highway', 'highway', 'highway', 'highway', 'highway', 'highway', 'highway', 'highway', 'highway', 'highway', 'highway', 'highway', 'highway', 'highway', 'highway', 'highway', 'highway', 'highway', 'highway', 'highway', 'highway', 'highway', 'highway', 'highway', 'highway', 'highway', 'highway', 'highway', 'highway', 'highway', 'highway', 'highway', 'highway', 'highway', 'highway', 'highway', 'highway', 'highway', 'highway', 'highway', 'highway', 'highway', 'highway', 'highway', 'highway', 'highway', 'highway', 'highway', 'highway', 'highway', 'highway', 'highway', 'highway', 'highway', 'highway', 'highway', 'highway', 'highway', 'highway', 'highway', 'highway', 'highway', 'highway', 'highway', 'highway', 'highway', 'highway', 'highway', 'highway', 'highway', 'highway', 'highway', 'highway', 'highway', 'highway', 'highway', 'highway', 'highway', 'highway', 'highway', 'highway', 'highway', 'highway', 'highway', 'highway', 'highway', 'highway', 'highway', 'highway', 'highway', 'highway', 'highway', 'highway', 'highway', 'highway', 'highway', 'highway', 'highway', 'highway', 'highway', 'highway', 'highway', 'highway', 'highway', 'highway', 'highway', 'highway', 'highway', 'highway', 'highway', 'highway', 'highway', 'highway', 'highway', 'highway', 'highway', 'highway', 'highway', 'highway', 'highway', 'highway', 'highway', 'highway', 'highway', 'highway', 'highway', 'highway', 'highway', 'highway', 'highway', 'highway', 'highway', 'highway', 'highway', 'highway', 'highway', 'highway', 'highway', 'highway', 'highway', 'highway', 'highway', 'highway', 'highway', 'highway', 'highway', 'highway', 'highway', 'highway', 'highway', 'highway', 'highway', 'highway', 'highway', 'highway', 'highway', 'highway', 'highway', 'highway', 'highway', 'highway', 'highway', 'highway', 'highway', 'highway', 'highway', 'highway', 'highway', 'highway', 'highway', 'highway', 'highway', 'highway', 'highway', 'highway', 'highway', 'highway', 'highway', 'highway', 'highway', 'highway', 'highway', 'highway', 'highway', 'highway', 'highway', 'highway', 'highway', 'highway', 'highway', 'highway']\n"
          ],
          "name": "stdout"
        }
      ]
    },
    {
      "cell_type": "code",
      "metadata": {
        "id": "TOSGm6QFJlFn"
      },
      "source": [
        "# encode the labels, converting them from strings to integers\n",
        "lb = LabelBinarizer()\n",
        "labels = lb.fit_transform(labels)"
      ],
      "execution_count": 30,
      "outputs": []
    },
    {
      "cell_type": "code",
      "metadata": {
        "colab": {
          "base_uri": "https://localhost:8080/"
        },
        "id": "eTzJZMTKMzQ-",
        "outputId": "f814631f-3ef5-4804-cfbf-f71f629903af"
      },
      "source": [
        "print(labels)"
      ],
      "execution_count": 31,
      "outputs": [
        {
          "output_type": "stream",
          "text": [
            "[[1 0 0]\n",
            " [1 0 0]\n",
            " [1 0 0]\n",
            " ...\n",
            " [0 0 1]\n",
            " [0 0 1]\n",
            " [0 0 1]]\n"
          ],
          "name": "stdout"
        }
      ]
    },
    {
      "cell_type": "code",
      "metadata": {
        "colab": {
          "base_uri": "https://localhost:8080/"
        },
        "id": "Z4IpdV4EM1LZ",
        "outputId": "c0b966a3-24a6-4903-9ee9-f371942ac69b"
      },
      "source": [
        "print(np.array(data).shape)"
      ],
      "execution_count": 32,
      "outputs": [
        {
          "output_type": "stream",
          "text": [
            "(948, 128, 128, 3)\n"
          ],
          "name": "stdout"
        }
      ]
    },
    {
      "cell_type": "code",
      "metadata": {
        "colab": {
          "base_uri": "https://localhost:8080/"
        },
        "id": "6hbC-9t8M8aO",
        "outputId": "362473fb-2775-45b8-a3ff-5a3c5048ea34"
      },
      "source": [
        "# perform a training and testing split, using 75% of the data for\n",
        "# training and 25% for evaluation\n",
        "(trainX, testX, trainY, testY) = train_test_split(np.array(data),\tnp.array(labels), test_size=0.25)\n",
        "print(trainX.shape)\n",
        "print(testX.shape)"
      ],
      "execution_count": 33,
      "outputs": [
        {
          "output_type": "stream",
          "text": [
            "(711, 128, 128, 3)\n",
            "(237, 128, 128, 3)\n"
          ],
          "name": "stdout"
        }
      ]
    },
    {
      "cell_type": "code",
      "metadata": {
        "id": "oku0dTpFNBui"
      },
      "source": [
        "from keras.models import Sequential\n",
        "from keras.layers.core import Flatten\n",
        "from keras.layers.core import Dense, Dropout\n",
        "\n",
        "model = Sequential(\n",
        "    [\n",
        "        Flatten(input_shape=(128*128*3,)),\n",
        "        Dense(1024, activation=\"relu\"),\n",
        "        Dropout(0.3),\n",
        "        Dense(512, activation=\"relu\"),\n",
        "        Dropout(0.2),\n",
        "        Dense(512, activation=\"relu\"),\n",
        "        Dense(256, activation=\"relu\"),\n",
        "        Dense(256, activation=\"relu\"),\n",
        "        Dense(3, activation = \"softmax\"),\n",
        "    ]\n",
        ")"
      ],
      "execution_count": 198,
      "outputs": []
    },
    {
      "cell_type": "code",
      "metadata": {
        "colab": {
          "base_uri": "https://localhost:8080/"
        },
        "id": "erktftQ9NFJc",
        "outputId": "249b67af-ec01-49f7-e2d9-07380c7e637f"
      },
      "source": [
        "model.summary()"
      ],
      "execution_count": 199,
      "outputs": [
        {
          "output_type": "stream",
          "text": [
            "Model: \"sequential_32\"\n",
            "_________________________________________________________________\n",
            "Layer (type)                 Output Shape              Param #   \n",
            "=================================================================\n",
            "flatten_32 (Flatten)         (None, 49152)             0         \n",
            "_________________________________________________________________\n",
            "dense_192 (Dense)            (None, 1024)              50332672  \n",
            "_________________________________________________________________\n",
            "dropout_61 (Dropout)         (None, 1024)              0         \n",
            "_________________________________________________________________\n",
            "dense_193 (Dense)            (None, 512)               524800    \n",
            "_________________________________________________________________\n",
            "dropout_62 (Dropout)         (None, 512)               0         \n",
            "_________________________________________________________________\n",
            "dense_194 (Dense)            (None, 512)               262656    \n",
            "_________________________________________________________________\n",
            "dense_195 (Dense)            (None, 256)               131328    \n",
            "_________________________________________________________________\n",
            "dense_196 (Dense)            (None, 256)               65792     \n",
            "_________________________________________________________________\n",
            "dense_197 (Dense)            (None, 3)                 771       \n",
            "=================================================================\n",
            "Total params: 51,318,019\n",
            "Trainable params: 51,318,019\n",
            "Non-trainable params: 0\n",
            "_________________________________________________________________\n"
          ],
          "name": "stdout"
        }
      ]
    },
    {
      "cell_type": "code",
      "metadata": {
        "colab": {
          "base_uri": "https://localhost:8080/"
        },
        "id": "5QOXvfYgNISP",
        "outputId": "923c23df-acf2-459b-8a67-19cbb1c2be8c"
      },
      "source": [
        "# train the model using the Adam optimizer\n",
        "print(\"[INFO] training network...\")\n",
        "opt = Adam(lr=1e-3, decay=1e-3)\n",
        "model.compile(loss=\"categorical_crossentropy\", optimizer=opt,\n",
        "\tmetrics=[\"accuracy\"])\n",
        "H = model.fit(trainX, trainY, validation_data=(testX, testY), epochs=50, batch_size=80)"
      ],
      "execution_count": 200,
      "outputs": [
        {
          "output_type": "stream",
          "text": [
            "[INFO] training network...\n",
            "Epoch 1/50\n",
            "WARNING:tensorflow:Model was constructed with shape (None, 49152) for input KerasTensor(type_spec=TensorSpec(shape=(None, 49152), dtype=tf.float32, name='flatten_32_input'), name='flatten_32_input', description=\"created by layer 'flatten_32_input'\"), but it was called on an input with incompatible shape (None, 128, 128, 3).\n",
            "WARNING:tensorflow:Model was constructed with shape (None, 49152) for input KerasTensor(type_spec=TensorSpec(shape=(None, 49152), dtype=tf.float32, name='flatten_32_input'), name='flatten_32_input', description=\"created by layer 'flatten_32_input'\"), but it was called on an input with incompatible shape (None, 128, 128, 3).\n",
            "7/9 [======================>.......] - ETA: 0s - loss: 10.7713 - accuracy: 0.3081WARNING:tensorflow:Model was constructed with shape (None, 49152) for input KerasTensor(type_spec=TensorSpec(shape=(None, 49152), dtype=tf.float32, name='flatten_32_input'), name='flatten_32_input', description=\"created by layer 'flatten_32_input'\"), but it was called on an input with incompatible shape (None, 128, 128, 3).\n",
            "9/9 [==============================] - 1s 53ms/step - loss: 10.3109 - accuracy: 0.3135 - val_loss: 5.2853 - val_accuracy: 0.3713\n",
            "Epoch 2/50\n",
            "9/9 [==============================] - 0s 31ms/step - loss: 3.8399 - accuracy: 0.3773 - val_loss: 1.4851 - val_accuracy: 0.3165\n",
            "Epoch 3/50\n",
            "9/9 [==============================] - 0s 30ms/step - loss: 1.8724 - accuracy: 0.3065 - val_loss: 1.1817 - val_accuracy: 0.3502\n",
            "Epoch 4/50\n",
            "9/9 [==============================] - 0s 29ms/step - loss: 1.3586 - accuracy: 0.3750 - val_loss: 1.0277 - val_accuracy: 0.4051\n",
            "Epoch 5/50\n",
            "9/9 [==============================] - 0s 28ms/step - loss: 1.1383 - accuracy: 0.4322 - val_loss: 1.0565 - val_accuracy: 0.3797\n",
            "Epoch 6/50\n",
            "9/9 [==============================] - 0s 28ms/step - loss: 1.0748 - accuracy: 0.4210 - val_loss: 0.9681 - val_accuracy: 0.4641\n",
            "Epoch 7/50\n",
            "9/9 [==============================] - 0s 27ms/step - loss: 1.0090 - accuracy: 0.4815 - val_loss: 0.9137 - val_accuracy: 0.5316\n",
            "Epoch 8/50\n",
            "9/9 [==============================] - 0s 27ms/step - loss: 1.0372 - accuracy: 0.4909 - val_loss: 0.9379 - val_accuracy: 0.5316\n",
            "Epoch 9/50\n",
            "9/9 [==============================] - 0s 27ms/step - loss: 1.0846 - accuracy: 0.4660 - val_loss: 0.9100 - val_accuracy: 0.5527\n",
            "Epoch 10/50\n",
            "9/9 [==============================] - 0s 27ms/step - loss: 0.9418 - accuracy: 0.5477 - val_loss: 0.8981 - val_accuracy: 0.5063\n",
            "Epoch 11/50\n",
            "9/9 [==============================] - 0s 26ms/step - loss: 0.9182 - accuracy: 0.5400 - val_loss: 0.8877 - val_accuracy: 0.5316\n",
            "Epoch 12/50\n",
            "9/9 [==============================] - 0s 27ms/step - loss: 0.8865 - accuracy: 0.5820 - val_loss: 0.8207 - val_accuracy: 0.6709\n",
            "Epoch 13/50\n",
            "9/9 [==============================] - 0s 26ms/step - loss: 0.8310 - accuracy: 0.5971 - val_loss: 0.8115 - val_accuracy: 0.6287\n",
            "Epoch 14/50\n",
            "9/9 [==============================] - 0s 27ms/step - loss: 0.7772 - accuracy: 0.6233 - val_loss: 0.7466 - val_accuracy: 0.6920\n",
            "Epoch 15/50\n",
            "9/9 [==============================] - 0s 26ms/step - loss: 0.7222 - accuracy: 0.6852 - val_loss: 0.7491 - val_accuracy: 0.7215\n",
            "Epoch 16/50\n",
            "9/9 [==============================] - 0s 27ms/step - loss: 0.7952 - accuracy: 0.6579 - val_loss: 0.6902 - val_accuracy: 0.7468\n",
            "Epoch 17/50\n",
            "9/9 [==============================] - 0s 28ms/step - loss: 0.7032 - accuracy: 0.6786 - val_loss: 0.6535 - val_accuracy: 0.7764\n",
            "Epoch 18/50\n",
            "9/9 [==============================] - 0s 27ms/step - loss: 0.6883 - accuracy: 0.6864 - val_loss: 0.6383 - val_accuracy: 0.7511\n",
            "Epoch 19/50\n",
            "9/9 [==============================] - 0s 26ms/step - loss: 0.7381 - accuracy: 0.6770 - val_loss: 0.6672 - val_accuracy: 0.7046\n",
            "Epoch 20/50\n",
            "9/9 [==============================] - 0s 27ms/step - loss: 0.6941 - accuracy: 0.6761 - val_loss: 0.6666 - val_accuracy: 0.6793\n",
            "Epoch 21/50\n",
            "9/9 [==============================] - 0s 27ms/step - loss: 0.6755 - accuracy: 0.7224 - val_loss: 0.5847 - val_accuracy: 0.7890\n",
            "Epoch 22/50\n",
            "9/9 [==============================] - 0s 28ms/step - loss: 0.6278 - accuracy: 0.7604 - val_loss: 0.5661 - val_accuracy: 0.7764\n",
            "Epoch 23/50\n",
            "9/9 [==============================] - 0s 27ms/step - loss: 0.5591 - accuracy: 0.7957 - val_loss: 0.5350 - val_accuracy: 0.8143\n",
            "Epoch 24/50\n",
            "9/9 [==============================] - 0s 28ms/step - loss: 0.5802 - accuracy: 0.7466 - val_loss: 0.5478 - val_accuracy: 0.8354\n",
            "Epoch 25/50\n",
            "9/9 [==============================] - 0s 27ms/step - loss: 0.6206 - accuracy: 0.7446 - val_loss: 0.6519 - val_accuracy: 0.6835\n",
            "Epoch 26/50\n",
            "9/9 [==============================] - 0s 27ms/step - loss: 0.6681 - accuracy: 0.7073 - val_loss: 0.7542 - val_accuracy: 0.5992\n",
            "Epoch 27/50\n",
            "9/9 [==============================] - 0s 27ms/step - loss: 0.5965 - accuracy: 0.7430 - val_loss: 0.5497 - val_accuracy: 0.7890\n",
            "Epoch 28/50\n",
            "9/9 [==============================] - 0s 27ms/step - loss: 0.5402 - accuracy: 0.7975 - val_loss: 0.4940 - val_accuracy: 0.8228\n",
            "Epoch 29/50\n",
            "9/9 [==============================] - 0s 28ms/step - loss: 0.5465 - accuracy: 0.7773 - val_loss: 0.5440 - val_accuracy: 0.8017\n",
            "Epoch 30/50\n",
            "9/9 [==============================] - 0s 27ms/step - loss: 0.5535 - accuracy: 0.7710 - val_loss: 0.5117 - val_accuracy: 0.8228\n",
            "Epoch 31/50\n",
            "9/9 [==============================] - 0s 27ms/step - loss: 0.4900 - accuracy: 0.8025 - val_loss: 0.5282 - val_accuracy: 0.8228\n",
            "Epoch 32/50\n",
            "9/9 [==============================] - 0s 28ms/step - loss: 0.4753 - accuracy: 0.8240 - val_loss: 0.5025 - val_accuracy: 0.8143\n",
            "Epoch 33/50\n",
            "9/9 [==============================] - 0s 26ms/step - loss: 0.4388 - accuracy: 0.8059 - val_loss: 0.5087 - val_accuracy: 0.8228\n",
            "Epoch 34/50\n",
            "9/9 [==============================] - 0s 26ms/step - loss: 0.4982 - accuracy: 0.8249 - val_loss: 0.4772 - val_accuracy: 0.8439\n",
            "Epoch 35/50\n",
            "9/9 [==============================] - 0s 26ms/step - loss: 0.4742 - accuracy: 0.8150 - val_loss: 0.6630 - val_accuracy: 0.6709\n",
            "Epoch 36/50\n",
            "9/9 [==============================] - 0s 27ms/step - loss: 0.5557 - accuracy: 0.7731 - val_loss: 0.5485 - val_accuracy: 0.7806\n",
            "Epoch 37/50\n",
            "9/9 [==============================] - 0s 27ms/step - loss: 0.5030 - accuracy: 0.8437 - val_loss: 0.4912 - val_accuracy: 0.8101\n",
            "Epoch 38/50\n",
            "9/9 [==============================] - 0s 27ms/step - loss: 0.4894 - accuracy: 0.8124 - val_loss: 0.4976 - val_accuracy: 0.8354\n",
            "Epoch 39/50\n",
            "9/9 [==============================] - 0s 28ms/step - loss: 0.4660 - accuracy: 0.8209 - val_loss: 0.4852 - val_accuracy: 0.8481\n",
            "Epoch 40/50\n",
            "9/9 [==============================] - 0s 27ms/step - loss: 0.4924 - accuracy: 0.8270 - val_loss: 0.5918 - val_accuracy: 0.8186\n",
            "Epoch 41/50\n",
            "9/9 [==============================] - 0s 27ms/step - loss: 0.4531 - accuracy: 0.8281 - val_loss: 0.5450 - val_accuracy: 0.8059\n",
            "Epoch 42/50\n",
            "9/9 [==============================] - 0s 27ms/step - loss: 0.4228 - accuracy: 0.8259 - val_loss: 0.5203 - val_accuracy: 0.8143\n",
            "Epoch 43/50\n",
            "9/9 [==============================] - 0s 27ms/step - loss: 0.4750 - accuracy: 0.8037 - val_loss: 0.5222 - val_accuracy: 0.8101\n",
            "Epoch 44/50\n",
            "9/9 [==============================] - 0s 29ms/step - loss: 0.4374 - accuracy: 0.8164 - val_loss: 0.5163 - val_accuracy: 0.8228\n",
            "Epoch 45/50\n",
            "9/9 [==============================] - 0s 27ms/step - loss: 0.4290 - accuracy: 0.8173 - val_loss: 0.4821 - val_accuracy: 0.8523\n",
            "Epoch 46/50\n",
            "9/9 [==============================] - 0s 28ms/step - loss: 0.3803 - accuracy: 0.8552 - val_loss: 0.5217 - val_accuracy: 0.8186\n",
            "Epoch 47/50\n",
            "9/9 [==============================] - 0s 27ms/step - loss: 0.3771 - accuracy: 0.8541 - val_loss: 0.5022 - val_accuracy: 0.8143\n",
            "Epoch 48/50\n",
            "9/9 [==============================] - 0s 27ms/step - loss: 0.4076 - accuracy: 0.8394 - val_loss: 0.4575 - val_accuracy: 0.8439\n",
            "Epoch 49/50\n",
            "9/9 [==============================] - 0s 27ms/step - loss: 0.3726 - accuracy: 0.8608 - val_loss: 0.4617 - val_accuracy: 0.8270\n",
            "Epoch 50/50\n",
            "9/9 [==============================] - 0s 27ms/step - loss: 0.3546 - accuracy: 0.8545 - val_loss: 0.4946 - val_accuracy: 0.8608\n"
          ],
          "name": "stdout"
        }
      ]
    },
    {
      "cell_type": "code",
      "metadata": {
        "colab": {
          "base_uri": "https://localhost:8080/",
          "height": 590
        },
        "id": "j2zGng6kNPay",
        "outputId": "b6490c80-dca7-4ed4-cad3-866f24f14cba"
      },
      "source": [
        "import matplotlib.pyplot as plt\n",
        "\n",
        "print(H.history.keys())\n",
        "# summarize history for accuracy\n",
        "plt.plot(H.history['accuracy'])\n",
        "plt.plot(H.history['val_accuracy'])\n",
        "plt.title('model accuracy')\n",
        "plt.ylabel('accuracy')\n",
        "plt.xlabel('epoch')\n",
        "plt.legend(['train', 'test'], loc='upper left')\n",
        "plt.show()\n",
        "# summarize history for loss\n",
        "plt.plot(H.history['loss'])\n",
        "plt.plot(H.history['val_loss'])\n",
        "plt.title('model loss')\n",
        "plt.ylabel('loss')\n",
        "plt.xlabel('epoch')\n",
        "plt.legend(['train', 'test'], loc='upper left')\n",
        "plt.show()"
      ],
      "execution_count": 201,
      "outputs": [
        {
          "output_type": "stream",
          "text": [
            "dict_keys(['loss', 'accuracy', 'val_loss', 'val_accuracy'])\n"
          ],
          "name": "stdout"
        },
        {
          "output_type": "display_data",
          "data": {
            "image/png": "[encoded data removed]",
            "text/plain": [
              "<Figure size 432x288 with 1 Axes>"
            ]
          },
          "metadata": {
            "tags": [],
            "needs_background": "light"
          }
        },
        {
          "output_type": "display_data",
          "data": {
            "image/png": "[encoded data removed]",
            "text/plain": [
              "<Figure size 432x288 with 1 Axes>"
            ]
          },
          "metadata": {
            "tags": [],
            "needs_background": "light"
          }
        }
      ]
    },
    {
      "cell_type": "code",
      "metadata": {
        "colab": {
          "base_uri": "https://localhost:8080/"
        },
        "id": "1bIvdyszNiD_",
        "outputId": "67e058ac-7557-4c4c-fc75-3d60431eede6"
      },
      "source": [
        "# evaluate the network\n",
        "print(\"[INFO] evaluating network...\")\n",
        "predictions = model.predict(testX, batch_size=96)\n",
        "print(classification_report(testY.argmax(axis=1),\n",
        "\tpredictions.argmax(axis=1), target_names=lb.classes_))"
      ],
      "execution_count": 202,
      "outputs": [
        {
          "output_type": "stream",
          "text": [
            "[INFO] evaluating network...\n",
            "WARNING:tensorflow:Model was constructed with shape (None, 49152) for input KerasTensor(type_spec=TensorSpec(shape=(None, 49152), dtype=tf.float32, name='flatten_32_input'), name='flatten_32_input', description=\"created by layer 'flatten_32_input'\"), but it was called on an input with incompatible shape (None, 128, 128, 3).\n",
            "WARNING:tensorflow:5 out of the last 13 calls to <function Model.make_predict_function.<locals>.predict_function at 0x7fe76c24b290> triggered tf.function retracing. Tracing is expensive and the excessive number of tracings could be due to (1) creating @tf.function repeatedly in a loop, (2) passing tensors with different shapes, (3) passing Python objects instead of tensors. For (1), please define your @tf.function outside of the loop. For (2), @tf.function has experimental_relax_shapes=True option that relaxes argument shapes that can avoid unnecessary retracing. For (3), please refer to https://www.tensorflow.org/guide/function#controlling_retracing and https://www.tensorflow.org/api_docs/python/tf/function for  more details.\n",
            "              precision    recall  f1-score   support\n",
            "\n",
            "       coast       0.87      0.90      0.88        88\n",
            "      forest       0.83      0.85      0.84        75\n",
            "     highway       0.88      0.82      0.85        74\n",
            "\n",
            "    accuracy                           0.86       237\n",
            "   macro avg       0.86      0.86      0.86       237\n",
            "weighted avg       0.86      0.86      0.86       237\n",
            "\n"
          ],
          "name": "stdout"
        }
      ]
    },
    {
      "cell_type": "code",
      "metadata": {
        "id": "ag01ZYBHNqQi"
      },
      "source": [
        ""
      ],
      "execution_count": 172,
      "outputs": []
    },
    {
      "cell_type": "code",
      "metadata": {
        "colab": {
          "base_uri": "https://localhost:8080/"
        },
        "id": "7Nngm_tUNvfV",
        "outputId": "d632e01a-ab89-427d-e3d1-ac274f852665"
      },
      "source": [
        "image_test=Image.open(gambar)\n",
        "image_test=np.array(image_test.resize((128,128))) / 255.0\n",
        "image_test.shape"
      ],
      "execution_count": 40,
      "outputs": [
        {
          "output_type": "execute_result",
          "data": {
            "text/plain": [
              "(128, 128, 3)"
            ]
          },
          "metadata": {
            "tags": []
          },
          "execution_count": 40
        }
      ]
    },
    {
      "cell_type": "markdown",
      "metadata": {
        "id": "SNGcfXxUA_X-"
      },
      "source": [
        ""
      ]
    },
    {
      "cell_type": "code",
      "metadata": {
        "colab": {
          "base_uri": "https://localhost:8080/"
        },
        "id": "Lv5YGDxzNywH",
        "outputId": "5fc2b2b7-fe46-4683-afa1-cf827996de6b"
      },
      "source": [
        "image_test=np.expand_dims(image_test, axis=0)\n",
        "image_test.shape"
      ],
      "execution_count": 41,
      "outputs": [
        {
          "output_type": "execute_result",
          "data": {
            "text/plain": [
              "(1, 128, 128, 3)"
            ]
          },
          "metadata": {
            "tags": []
          },
          "execution_count": 41
        }
      ]
    },
    {
      "cell_type": "code",
      "metadata": {
        "id": "uvf0gKyIN4sq"
      },
      "source": [
        "predict = model.predict(image_test)"
      ],
      "execution_count": 42,
      "outputs": []
    },
    {
      "cell_type": "code",
      "metadata": {
        "colab": {
          "base_uri": "https://localhost:8080/"
        },
        "id": "vpVq9LVBN7jg",
        "outputId": "a7addcd9-28d9-4e36-eb4e-1f6270000a48"
      },
      "source": [
        "print(predict)"
      ],
      "execution_count": 43,
      "outputs": [
        {
          "output_type": "stream",
          "text": [
            "[[0.07888339 0.8833555  0.03776108]]\n"
          ],
          "name": "stdout"
        }
      ]
    },
    {
      "cell_type": "code",
      "metadata": {
        "colab": {
          "base_uri": "https://localhost:8080/"
        },
        "id": "2reKlFS3N_x9",
        "outputId": "5e396edf-7366-4bd9-a813-98d52be1370a"
      },
      "source": [
        "print(lb.classes_[predict.argmax(axis=1)])"
      ],
      "execution_count": 44,
      "outputs": [
        {
          "output_type": "stream",
          "text": [
            "['forest']\n"
          ],
          "name": "stdout"
        }
      ]
    },
    {
      "cell_type": "code",
      "metadata": {
        "id": "VryQu6VMOClY"
      },
      "source": [
        ""
      ],
      "execution_count": null,
      "outputs": []
    }
  ]
}